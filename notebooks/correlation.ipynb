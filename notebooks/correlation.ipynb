{
 "cells": [
  {
   "cell_type": "code",
   "execution_count": null,
   "metadata": {},
   "outputs": [],
   "source": [
    "import pandas as pd\n",
    "import matplotlib.pyplot as plt\n",
    "import matplotlib.patches as mpatches\n",
    "import seaborn as sns\n",
    "import matplotlib.cm as cm\n",
    "import numpy as np"
   ]
  },
  {
   "cell_type": "code",
   "execution_count": null,
   "metadata": {},
   "outputs": [],
   "source": [
    "# Read the CSV file with tabs as separator\n",
    "mempool = pd.read_csv('new_pool.csv', sep='\\t')\n",
    "\n",
    "# Remove leading/trailing spaces from column names\n",
    "mempool.columns = mempool.columns.str.strip()\n",
    "\n",
    "# This works\n",
    "mempool.columns"
   ]
  },
  {
   "cell_type": "code",
   "execution_count": null,
   "metadata": {},
   "outputs": [],
   "source": [
    "# define function to determine order flow\n",
    "def determine_order_flow(row):\n",
    "    if row['timepending'] == 0 and row['status'] == 'confirmed':\n",
    "        return 'private'\n",
    "    elif pd.isna(row['timepending']) and row['status'] == 'confirmed':\n",
    "        return 'private'\n",
    "    elif row['timepending'] > 0 and row['status'] == 'confirmed':\n",
    "        return 'public'\n",
    "    else:\n",
    "        return 'others'"
   ]
  },
  {
   "cell_type": "code",
   "execution_count": null,
   "metadata": {},
   "outputs": [],
   "source": [
    "def plot_scatter_colors(df):\n",
    "    ## FILTER OUTLIERS ##\n",
    "    # df = df[df['gasused_private'] < 1e+3]\n",
    "    ## FILTER OUTLIERS END ##\n",
    "    plt.scatter(df['curblocknumber'], df['gasused_private'], c=df['next_block_inclusion_time'], cmap=('cool'))\n",
    "    plt.title('Relationship between Gas Used in a Block in Private O.F. and Varieties of Inclusion Time')\n",
    "    plt.xlabel('Block number')\n",
    "    plt.ylabel('Gas Used in Private Order Flow at a Block')\n",
    "    plt.colorbar(label='Inclusion Time')\n",
    "    plt.gcf().set_size_inches(15, 5)\n",
    "    plt.grid(True)\n",
    "    plt.show()\n",
    "\n",
    "def plot_scatter_colors_outliers(df):\n",
    "    # Calculating the first and third quartiles\n",
    "    q1 = df['gasused_private'].quantile(0.25)\n",
    "    q3 = df['gasused_private'].quantile(0.75)\n",
    "\n",
    "    # Calculating the interquartile range (IQR)\n",
    "    iqr = q3 - q1\n",
    "\n",
    "    # Filtering out the outliers based on the IQR\n",
    "    df_filtered = df[(df['gasused_private'] >= q1 - 1.5 * iqr) & (df['gasused_private'] <= q3 + 1.5 * iqr)]\n",
    "\n",
    "    # Plotting the scatter plot with filtered data\n",
    "    plt.scatter(df_filtered['curblocknumber'], df_filtered['gasused_private'], c=df_filtered['next_block_inclusion_time'], cmap=('cool'))\n",
    "    plt.title('Relationship between Gas Used in a Block in Private O.F. and Varieties of Inclusion Time')\n",
    "    plt.xlabel('Block number')\n",
    "    plt.ylabel('Gas Used in Private Order Flow at a Block')\n",
    "    plt.colorbar(label='Inclusion Time')\n",
    "    plt.gcf().set_size_inches(15, 5)\n",
    "    plt.grid(True)\n",
    "    plt.show()\n",
    "\n",
    "def plot_scatter_inclusion_vs_gasprice(df):\n",
    "    plt.scatter(df['gasused_private'], df['next_block_inclusion_time'])\n",
    "    plt.title('Relationship between Gas Used per Block by Private O.F vs. Varieties of Inclusion Time')\n",
    "    plt.xlabel('Gas Used By Block in Private O.F')\n",
    "    plt.ylabel('Inclusion Time')\n",
    "    plt.gcf().set_size_inches(15, 5)\n",
    "    plt.grid(True)\n",
    "    plt.show()\n",
    "\n",
    "def plot_scatter_inclusion_vs_gasprice_outliers(df):\n",
    "    # Calculate the first and third quartiles for 'gasused_private' column\n",
    "    q1 = df['gasused_private'].quantile(0.25)\n",
    "    q3 = df['gasused_private'].quantile(0.75)\n",
    "\n",
    "    # Calculate the interquartile range (IQR) for 'gasused_private' column\n",
    "    iqr = q3 - q1\n",
    "\n",
    "    # Filter out the outliers based on the IQR for 'gasused_private' column\n",
    "    df_filtered = df[(df['gasused_private'] >= q1 - 1.5 * iqr) & (df['gasused_private'] <= q3 + 1.5 * iqr)]\n",
    "\n",
    "    # Plot the scatter plot with filtered data\n",
    "    plt.scatter(df_filtered['gasused_private'], df_filtered['next_block_inclusion_time'])\n",
    "    plt.title('Relationship between Gas Used per Block by Private O.F vs. Varieties of Inclusion Time')\n",
    "    plt.xlabel('Gas Used By Block in Private O.F')\n",
    "    plt.ylabel('Inclusion Time')\n",
    "    plt.gcf().set_size_inches(15, 5)\n",
    "    plt.grid(True)\n",
    "    plt.show()\n"
   ]
  },
  {
   "cell_type": "code",
   "execution_count": null,
   "metadata": {},
   "outputs": [],
   "source": [
    "confirmed_df = mempool[(mempool['region'] == 'us-east-1') & (mempool['status'] == 'confirmed')].copy()\n",
    "confirmed_df['order_flow'] = confirmed_df.apply(determine_order_flow, axis=1)\n",
    "\n",
    "# Calculate sum of 'gasused' for 'order_flow' that is 'private' for each 'curblocknumber'\n",
    "confirmed_df['gasused_private'] = confirmed_df[confirmed_df['order_flow'] == 'private'].groupby('curblocknumber')['gasused'].transform('sum')\n",
    "\n",
    "# Filter out 'nan' values before calculating the median\n",
    "blocknumber_medians = confirmed_df.groupby('curblocknumber')['timepending'].apply(lambda x: x.dropna().median())\n",
    "next_block_inclusion_time = blocknumber_medians.rolling(window=5, min_periods=1).median().shift(-4)\n",
    "# Map the computed values to the original DataFrame\n",
    "confirmed_df['next_block_inclusion_time'] = confirmed_df['curblocknumber'].map(next_block_inclusion_time)\n",
    "\n",
    "### SAMPLE CHECK ###########################\n",
    "# DataFrame with NaN values\n",
    "confirmed_df_sample = pd.DataFrame({\n",
    "    'curblocknumber': [1, 1, 1, 1, 2, 2, 2, 2, 3, 4, 5, 6, 6, 7, 7, 8, 8, 9, 9],\n",
    "    'timepending': [5, 10, 15, 20, 50, 100, 150, 200, 7, 8, 9, np.nan, 12, 13, 14, 16, 18, np.nan, np.nan]\n",
    "})\n",
    "# Filter out 'nan' values before calculating the mean\n",
    "blocknumber_means_sample = confirmed_df_sample.groupby('curblocknumber')['timepending'].apply(lambda x: x.dropna().mean())\n",
    "next_block_inclusion_time = blocknumber_means_sample.rolling(window=2, min_periods=1).mean().shift(-1)\n",
    "# Map the computed values to the original DataFrame\n",
    "confirmed_df_sample['next_block_inclusion_time'] = confirmed_df_sample['curblocknumber'].map(next_block_inclusion_time)\n",
    "### END OF SAMPLE CHECK ####################\n",
    "\n",
    "# Last filter before plotting:\n",
    "# confirmed_df = confirmed_df[confirmed_df['running_n_block_avg_inclusion_time'] < 2.5]\n",
    "\n"
   ]
  },
  {
   "cell_type": "code",
   "execution_count": null,
   "metadata": {},
   "outputs": [],
   "source": [
    "plot_scatter_colors_outliers(confirmed_df)\n"
   ]
  },
  {
   "cell_type": "code",
   "execution_count": null,
   "metadata": {},
   "outputs": [],
   "source": [
    "plot_scatter_inclusion_vs_gasprice_outliers(confirmed_df)\n"
   ]
  },
  {
   "cell_type": "code",
   "execution_count": null,
   "metadata": {},
   "outputs": [],
   "source": []
  }
 ],
 "metadata": {
  "kernelspec": {
   "display_name": ".venv",
   "language": "python",
   "name": "python3"
  },
  "language_info": {
   "codemirror_mode": {
    "name": "ipython",
    "version": 3
   },
   "file_extension": ".py",
   "mimetype": "text/x-python",
   "name": "python",
   "nbconvert_exporter": "python",
   "pygments_lexer": "ipython3",
   "version": "3.8.9"
  }
 },
 "nbformat": 4,
 "nbformat_minor": 2
}
