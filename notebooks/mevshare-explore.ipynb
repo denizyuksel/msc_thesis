{
 "cells": [
  {
   "cell_type": "code",
   "execution_count": 1,
   "metadata": {},
   "outputs": [],
   "source": [
    "import pandas as pd\n"
   ]
  },
  {
   "cell_type": "code",
   "execution_count": 3,
   "metadata": {},
   "outputs": [
    {
     "name": "stderr",
     "output_type": "stream",
     "text": [
      "/var/folders/nj/b14c0yj12z763h3l9bhr3zmrp5c4jh/T/ipykernel_18327/4293289596.py:2: DtypeWarning: Columns (5) have mixed types. Specify dtype option on import or set low_memory=False.\n",
      "  data = pd.read_csv('../protect_historical.csv')\n"
     ]
    }
   ],
   "source": [
    "# Read data from CSV file\n",
    "data = pd.read_csv('../protect_historical.csv')"
   ]
  },
  {
   "cell_type": "code",
   "execution_count": 4,
   "metadata": {},
   "outputs": [
    {
     "name": "stdout",
     "output_type": "stream",
     "text": [
      "         block_number  tx_count\n",
      "0            14274915         2\n",
      "1            14274917         1\n",
      "2            14274918         3\n",
      "3            14274920         5\n",
      "4            14274921         2\n",
      "...               ...       ...\n",
      "2936590      18908885         5\n",
      "2936591      18908886         1\n",
      "2936592      18908887         3\n",
      "2936593      18908888         4\n",
      "2936594      18908890         1\n",
      "\n",
      "[2936595 rows x 2 columns]\n"
     ]
    }
   ],
   "source": [
    "# Group the dataframe by block_number and count the number of unique tx_hash values\n",
    "df_block_tx_count = data.groupby('created_at_block_number')['tx_hash'].nunique().reset_index()\n",
    "\n",
    "# Rename the columns to match the desired output\n",
    "df_block_tx_count = df_block_tx_count.rename(columns={'created_at_block_number': 'block_number', 'tx_hash': 'flashbots_protect_tx_count'})\n",
    "\n",
    "# Print the final dataframe\n",
    "print(df_block_tx_count)"
   ]
  },
  {
   "cell_type": "code",
   "execution_count": null,
   "metadata": {},
   "outputs": [],
   "source": []
  }
 ],
 "metadata": {
  "kernelspec": {
   "display_name": "thesis_env_mac",
   "language": "python",
   "name": "python3"
  },
  "language_info": {
   "codemirror_mode": {
    "name": "ipython",
    "version": 3
   },
   "file_extension": ".py",
   "mimetype": "text/x-python",
   "name": "python",
   "nbconvert_exporter": "python",
   "pygments_lexer": "ipython3",
   "version": "3.12.2"
  }
 },
 "nbformat": 4,
 "nbformat_minor": 2
}
