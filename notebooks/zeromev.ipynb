{
 "cells": [
  {
   "cell_type": "code",
   "execution_count": 2,
   "metadata": {},
   "outputs": [
    {
     "name": "stderr",
     "output_type": "stream",
     "text": [
      "C:\\Users\\Deniz\\AppData\\Local\\Temp\\ipykernel_7724\\3818023072.py:3: DeprecationWarning: \n",
      "Pyarrow will become a required dependency of pandas in the next major release of pandas (pandas 3.0),\n",
      "(to allow more performant data types, such as the Arrow string type, and better interoperability with other libraries)\n",
      "but was not found to be installed on your system.\n",
      "If this would cause problems for you,\n",
      "please provide us feedback at https://github.com/pandas-dev/pandas/issues/54466\n",
      "        \n",
      "  import pandas as pd\n"
     ]
    }
   ],
   "source": [
    "import requests\n",
    "import os\n",
    "import pandas as pd\n",
    "from sqlalchemy import create_engine, Column, Integer, MetaData, Table, select\n",
    "from sqlalchemy import Column, Table, MetaData, TIMESTAMP, VARCHAR, NUMERIC, INTEGER, BIGINT, Index\n",
    "from sqlalchemy.sql import text\n",
    "from sqlalchemy.orm import sessionmaker"
   ]
  },
  {
   "cell_type": "code",
   "execution_count": 4,
   "metadata": {},
   "outputs": [],
   "source": [
    "localhost_name = 'localhost'\n",
    "\n",
    "db_params = {\n",
    "    'host': localhost_name,\n",
    "    'database': 'thesisdb',\n",
    "    'user': 'postgres',\n",
    "    'password': 'admin',\n",
    "    'port': '5432'\n",
    "}\n",
    "\n",
    "table_name = 'zeromev_data'\n",
    "\n",
    "# Create a SQLAlchemy engine\n",
    "engine = create_engine(f\"postgresql://{db_params['user']}:{db_params['password']}@{db_params['host']}:{db_params['port']}/{db_params['database']}\")\n",
    "metadata = MetaData()\n",
    "table = Table(table_name, metadata,\n",
    "    Column('curblocknumber', NUMERIC(18), primary_key=True),\n",
    "    Column('mev_tx_count', INTEGER, index=True),\n",
    "    Column('detect_date', VARCHAR(100), index=True)\n",
    "    )\n",
    "    # Create the table\n",
    "metadata.create_all(engine)"
   ]
  },
  {
   "cell_type": "code",
   "execution_count": 5,
   "metadata": {},
   "outputs": [],
   "source": [
    "# Function to get the MEV transaction count and other details for a specific block number\n",
    "def get_mev_tx_info(block_number):\n",
    "    url = f\"https://data.zeromev.org/v1/mevBlock?block_number={block_number}\"\n",
    "    response = requests.get(url, headers={'accept': 'application/json'})\n",
    "    \n",
    "    if response.status_code == 200:\n",
    "        data = response.json()\n",
    "        print(f\"Request successful, retrieved data for block number {block_number}\")\n",
    "\n",
    "        # Extracting and processing data\n",
    "        transactions = []\n",
    "        for item in data:\n",
    "            if item.get('arrival_time_us'):  # Checks if 'arrival_time_us' is not None and not empty\n",
    "                date_str = item['arrival_time_us'].split('T')[0]  # Extracting date\n",
    "            else:\n",
    "                date_str = None\n",
    "            transactions.append({'block_number': block_number, 'detect_date': date_str})\n",
    "\n",
    "        # Creating DataFrame\n",
    "        df = pd.DataFrame(transactions)\n",
    "        total_counts = df['block_number'].value_counts().rename('mev_tx_count')\n",
    "\n",
    "        # Grouping by block_number and detect_date to calculate mev_tx_count\n",
    "        df_summary_one = df.groupby(['block_number', 'detect_date']).size().reset_index(name='mev_tx_count')\n",
    "        \n",
    "        # Merging total_counts back to df_summary\n",
    "        df_summary = df_summary_one.merge(total_counts, on='block_number', how='left')\n",
    "\n",
    "        return df_summary\n",
    "    else:\n",
    "        print(f\"Failed to fetch data for block number {block_number}\")\n",
    "        return None\n",
    "\n",
    "def write_to_db(df, engine):\n",
    "    if not df.empty:\n",
    "        df.to_sql(name=table_name, con=engine, if_exists='append', index=False)\n",
    "        df = pd.DataFrame()\n",
    "        print(\"Data written successfully to the database.\")\n",
    "    else:\n",
    "        print(\"No data to write to the database.\")"
   ]
  },
  {
   "cell_type": "code",
   "execution_count": 15,
   "metadata": {},
   "outputs": [],
   "source": [
    "start_block_number = 11172686\n",
    "count = 20\n",
    "url = f\"https://data.zeromev.org/v1/mevBlock?block_number={start_block_number}&count={count}\"\n",
    "response = requests.get(url, headers={'accept': 'application/json'})\n",
    "    \n",
    "if response.status_code == 200:\n",
    "    data = response.json()\n",
    "\n",
    "    # Initialize an empty dictionary to count transactions per block\n",
    "    transaction_counts = {}\n",
    "\n",
    "    # Loop through each item in the response data\n",
    "    for item in data:\n",
    "        block_number = item['block_number']\n",
    "        # Increase the transaction count for this block number\n",
    "        if block_number in transaction_counts:\n",
    "            transaction_counts[block_number] += 1\n",
    "        else:\n",
    "            transaction_counts[block_number] = 1\n",
    "        \n",
    "    # Create a list of dictionaries for DataFrame conversion\n",
    "    transactions = [{'block_number': k, 'mev_tx_count': v} for k, v in transaction_counts.items()]\n",
    "    \n",
    "    df = pd.DataFrame(transactions)"
   ]
  },
  {
   "cell_type": "code",
   "execution_count": 6,
   "metadata": {},
   "outputs": [
    {
     "name": "stdout",
     "output_type": "stream",
     "text": [
      "Request successful, retrieved data for block number 11172686\n",
      "block_number\n",
      "11172686    24\n",
      "Name: mev_tx_count, dtype: int64\n",
      "Processing for block 11172686\n",
      "No data to write to the database.\n",
      "Request successful, retrieved data for block number 11172687\n",
      "block_number\n",
      "11172687    34\n",
      "Name: mev_tx_count, dtype: int64\n",
      "Processing for block 11172687\n",
      "No data to write to the database.\n",
      "Request successful, retrieved data for block number 11172688\n",
      "block_number\n",
      "11172688    28\n",
      "Name: mev_tx_count, dtype: int64\n",
      "Processing for block 11172688\n",
      "No data to write to the database.\n",
      "Request successful, retrieved data for block number 11172689\n",
      "block_number\n",
      "11172689    24\n",
      "Name: mev_tx_count, dtype: int64\n",
      "Processing for block 11172689\n",
      "No data to write to the database.\n",
      "Request successful, retrieved data for block number 11172690\n",
      "block_number\n",
      "11172690    24\n",
      "Name: mev_tx_count, dtype: int64\n",
      "Processing for block 11172690\n",
      "No data to write to the database.\n"
     ]
    }
   ],
   "source": [
    "start_block_number = 11172686\n",
    "end_block_number = 11172690\n",
    "\n",
    "for block_number in range(start_block_number, end_block_number + 1):\n",
    "    mev_df = get_mev_tx_info(block_number)\n",
    "    if mev_df is not None:\n",
    "        print(f\"Processing for block {block_number}\")\n",
    "        write_to_db(mev_df, engine)\n",
    "    else:\n",
    "        print(f\"No data processed for block {block_number}\")"
   ]
  },
  {
   "cell_type": "code",
   "execution_count": null,
   "metadata": {},
   "outputs": [],
   "source": []
  }
 ],
 "metadata": {
  "kernelspec": {
   "display_name": "Python 3",
   "language": "python",
   "name": "python3"
  },
  "language_info": {
   "codemirror_mode": {
    "name": "ipython",
    "version": 3
   },
   "file_extension": ".py",
   "mimetype": "text/x-python",
   "name": "python",
   "nbconvert_exporter": "python",
   "pygments_lexer": "ipython3",
   "version": "3.12.2"
  }
 },
 "nbformat": 4,
 "nbformat_minor": 2
}
