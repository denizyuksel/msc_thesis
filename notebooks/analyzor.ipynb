{
 "cells": [
  {
   "cell_type": "markdown",
   "metadata": {},
   "source": [
    "## Analyzor Notebook for CEX-DEX Arbs and Competing Transactions in the Mempool"
   ]
  },
  {
   "cell_type": "code",
   "execution_count": null,
   "metadata": {},
   "outputs": [],
   "source": [
    "import pandas as pd\n",
    "import matplotlib.pyplot as plt\n",
    "import numpy as np\n",
    "import matplotlib.patches as mpatches\n",
    "import math\n",
    "import seaborn as sns\n"
   ]
  },
  {
   "cell_type": "code",
   "execution_count": null,
   "metadata": {},
   "outputs": [],
   "source": [
    "\n",
    "# Range: 17195493-17195495\n",
    "target_pool = pd.read_csv('target_pool.csv')\n",
    "\n",
    "# Find all transactions going to the cex-dex arber\n",
    "cex_dex_arber = '0xa69babef1ca67a37ffaf7a485dfff3382056e78c'\n",
    "arber_txs = target_pool[target_pool['toaddress'] == cex_dex_arber]\n",
    "\n",
    "## Mempooldan bu bota giden transactionlari aldik\n",
    "## Amac: ayni mempoolda olup kazanamayan baska adresleri bul\n",
    "## fakat bu adresler de \n",
    "\n",
    "\n",
    "# Group the transactions by hash and for each unique hash, find the set of observed status and corresponding detecttime\n",
    "arber_txs_grouped = arber_txs.groupby('hash').agg({'status': lambda x: set(x), 'detecttime': lambda x: set(x)})\n"
   ]
  },
  {
   "cell_type": "code",
   "execution_count": null,
   "metadata": {},
   "outputs": [],
   "source": [
    "def plot_tx_data_in_current_block(block_number):\n",
    "    cur_block_txs = target_pool[target_pool['curblocknumber'] == block_number]\n",
    "\n",
    "    # Group the data by region and create new dataframes for each group\n",
    "    grouped_data = cur_block_txs.groupby('region')\n",
    "\n",
    "    # Create a dictionary to store the dataframes\n",
    "    txs_regions_dict = {}\n",
    "\n",
    "    # Loop through the groups and create new dataframes for each group\n",
    "    for region, data in grouped_data:\n",
    "        df_name = f'{region}_txs'\n",
    "        txs_regions_dict[df_name] = data.copy()\n",
    "        print(f'Created dataframe: {df_name}')\n",
    "\n",
    "    # accessing the regions:\n",
    "    # south_east = txs_regions_dict['ap-southeast-1_txs']\n",
    "    # eu_central = txs_regions_dict['eu-central-1_txs']\n",
    "    # us_east = txs_regions_dict['us-east-1_txs']\n",
    "\n",
    "    region = txs_regions_dict['us-east-1_txs']\n",
    "\n",
    "     # aggregated = us_east.groupby('hash', as_index=False).agg({'status': lambda x: set(x), 'detecttime': lambda x: set(x)})\n",
    "    status_to_color_plot = {\n",
    "    'pending': 'olive', #yellow\n",
    "    'confirmed': 'green', #green\n",
    "    'rejected': 'red', #red\n",
    "    'cancelled': 'black', #black\n",
    "    'failed': 'gray', #gray\n",
    "    'evicted': 'blue', #navyblue\n",
    "    'speedup': 'purple' #purple\n",
    "    }\n",
    "    region['color'] = region['status'].apply(lambda x: status_to_color_plot.get(x, \"pink\"))\n",
    "    region['detecttimemilis'] = pd.to_datetime(region['detecttime']).astype(int) / 10**6\n",
    "    region['gasprice_gwei'] = region['gasprice'] * 1e-9\n",
    "    region['gaspaid_gwei'] = region['gas'] * 1e-9\n",
    "    region['normalized_milis'] = region['detecttimemilis'] - region['detecttimemilis'].min()\n",
    "\n",
    "    scatterPlot, ax = plt.subplots()\n",
    "    handles = []\n",
    "    for status, color in status_to_color_plot.items():\n",
    "        scale = 100.0\n",
    "        handle = ax.scatter(x=region['normalized_milis'], y=region['gasprice_gwei'], c=region['color'], s=scale, label=status,\n",
    "               alpha=0.3, edgecolors='none')\n",
    "        handles.append(mpatches.Patch(color=color, label=status))\n",
    "\n",
    "    ax.legend(handles=handles)\n",
    "    ax.grid(True)\n",
    "\n",
    "    # set the x-axis label\n",
    "    ax.set_xlabel('Detect Time (miliseconds)')\n",
    "\n",
    "    # set the y-axis label\n",
    "    ax.set_ylabel('Gas Price (gwei)')\n",
    "\n",
    "    # Add title\n",
    "    numConfirmed = len(region[region['status'] == 'confirmed'])\n",
    "    ax.set_title(\"Current block: \" + str(region['curblocknumber'].iloc[0]) + \"\\nConfirmed Txs: \" + str(numConfirmed))"
   ]
  },
  {
   "cell_type": "code",
   "execution_count": null,
   "metadata": {},
   "outputs": [],
   "source": [
    "target_pool.columns"
   ]
  },
  {
   "cell_type": "code",
   "execution_count": null,
   "metadata": {},
   "outputs": [],
   "source": [
    "arber_txs_grouped"
   ]
  },
  {
   "cell_type": "code",
   "execution_count": null,
   "metadata": {},
   "outputs": [],
   "source": [
    "arber_txs_grouped.shape[0]"
   ]
  },
  {
   "cell_type": "code",
   "execution_count": null,
   "metadata": {},
   "outputs": [],
   "source": [
    "result = target_pool[target_pool[\"input\"].str.contains('6f70d6b5f4404a0618cad9c1987d35f5ea79e529')]\n",
    "## bu string parcasi, ikinci adres uzerinde cagirilan fonksiyonun byte codeu\n",
    "## herhangi bir public transaction olsaydi status'ta sadece confirmed gormezdik, pending de gorurduk. hic pend etmeden inclue olmus, nasil oldu gokten mi indi? evet gokten indi cunku private order flow\n",
    "\n",
    "print(result)"
   ]
  },
  {
   "cell_type": "code",
   "execution_count": null,
   "metadata": {},
   "outputs": [],
   "source": [
    "# bytes'a bakarak adam hangi poolla interact etmis olabilir?\n",
    "# bu kazananin byte code'unu butun transactionlarin byte kodlariyla karsilastir. input'a bakabilirsin\n",
    "bytes = 0x588116d8000000000000000000000000000000000000000000000000000003e122d5eb1c0000000000000000000000000000000000000000000000001b7e48d691ce910000000000000000000000000000000000000057c8b3be32320daad0b2421fb41a0000000000000000000000000000000000000000000000000de0b6b3a764000000000000000000000000000000000000000000000000000000000000645528e2ff000000000000000000000000000000000000000000000000000000000279d7"
   ]
  },
  {
   "cell_type": "code",
   "execution_count": null,
   "metadata": {},
   "outputs": [],
   "source": [
    "num_nan = target_pool['gasprice'].isna().sum()\n",
    "print(f\"Number of NaN values in 'gasprice' column: {num_nan}\")\n",
    "print(\"Number of rows in target pool is \" + str(target_pool.shape[0]))"
   ]
  },
  {
   "cell_type": "code",
   "execution_count": null,
   "metadata": {},
   "outputs": [],
   "source": [
    "plot_tx_data_in_current_block(17195495)"
   ]
  },
  {
   "cell_type": "code",
   "execution_count": null,
   "metadata": {},
   "outputs": [],
   "source": [
    "arber_txs_grouped"
   ]
  },
  {
   "cell_type": "code",
   "execution_count": null,
   "metadata": {},
   "outputs": [],
   "source": [
    "target_pool.columns"
   ]
  },
  {
   "cell_type": "code",
   "execution_count": null,
   "metadata": {},
   "outputs": [],
   "source": [
    "target_pool[target_pool['status'] == 'pending']\n",
    "\n",
    "someDf = target_pool.groupby('hash').agg({'status': lambda x: set(x), 'detecttime': lambda x: set(x), 'curblocknumber': lambda x: set(x)}).reset_index()\n",
    "txDf = someDf[someDf['hash'].str.contains('0x0050cd6b561ec7af20b6e3daa561dbd71b4a2360')]\n",
    "someDf"
   ]
  },
  {
   "cell_type": "code",
   "execution_count": null,
   "metadata": {},
   "outputs": [],
   "source": [
    "# Iterate over columns in pandas DataFrame using enumerate()\n",
    "for (index, colname) in enumerate(txDf):\n",
    "    print(index, txDf[colname].values)\n",
    "    "
   ]
  },
  {
   "cell_type": "code",
   "execution_count": null,
   "metadata": {},
   "outputs": [],
   "source": [
    "txDf.to_csv('filename.csv')"
   ]
  },
  {
   "cell_type": "code",
   "execution_count": null,
   "metadata": {},
   "outputs": [],
   "source": [
    "target_pool[target_pool['hash'] == '0x030e12b671f93138c92d0ed70e0a51b8720db091e0ce17f29b0efbcdb626fac2'].to_csv('tx2.csv')"
   ]
  },
  {
   "cell_type": "code",
   "execution_count": null,
   "metadata": {},
   "outputs": [],
   "source": [
    "# Read the CSV file with tabs as separator\n",
    "new_pool = pd.read_csv('new_pool.csv', sep='\\t')\n",
    "\n",
    "# Remove leading/trailing spaces from column names\n",
    "new_pool.columns = new_pool.columns.str.strip()"
   ]
  },
  {
   "cell_type": "code",
   "execution_count": null,
   "metadata": {},
   "outputs": [],
   "source": [
    "new_pool.columns"
   ]
  },
  {
   "cell_type": "code",
   "execution_count": null,
   "metadata": {},
   "outputs": [],
   "source": [
    "print(new_pool['curblocknumber'])\n",
    "print(len(new_pool))"
   ]
  },
  {
   "cell_type": "code",
   "execution_count": null,
   "metadata": {},
   "outputs": [],
   "source": [
    "ten_block_df = new_pool[(new_pool['curblocknumber'] >= 17195490) & (new_pool['curblocknumber'] <= 17195500)]\n",
    "block_mask = ten_block_df['curblocknumber'] == 17195490\n",
    "block_range_mask = (ten_block_df['curblocknumber'] >= 17195494) & (ten_block_df['curblocknumber'] <= 17195496)\n",
    "confirmed_status_mask = ten_block_df['status'] == 'confirmed'\n",
    "evicted_status_mask = ten_block_df['status'] == 'evicted'\n",
    "pending_status_mask = ten_block_df['status'] == 'pending'\n",
    "combined_status_mask = confirmed_status_mask | pending_status_mask\n",
    "confirmed_df = ten_block_df.loc[block_range_mask & combined_status_mask, ['curblocknumber', 'status', 'detecttime']]\n",
    "\n",
    "# get the minimum time\n",
    "confirmed_df['detecttime_milis'] = pd.to_datetime(confirmed_df['detecttime']).astype(int) / 10**6\n",
    "confirmed_df['normalized_milis'] = confirmed_df['detecttime_milis'] - confirmed_df['detecttime_milis'].min()\n",
    "# confirmed_df['region'] = confirmed_df[confirmed_df['region'] == 'us-east-1']\n",
    "\n",
    "num_unique_detecttime = confirmed_df['detecttime'].nunique()\n",
    "print(\"unique timestamp values: \" + str(num_unique_detecttime))\n"
   ]
  },
  {
   "cell_type": "code",
   "execution_count": null,
   "metadata": {},
   "outputs": [],
   "source": [
    "def plot_blocks_statuses(df):\n",
    "    # create a dictionary to map status to color\n",
    "    color_map = {'pending': 'orange', 'confirmed': 'green', 'rejected': 'red', 'cancel': 'purple', 'failed': 'yellow', 'evicted': 'blue', 'speedup': 'gray'}\n",
    "    # add new columns detecttimemillis and gasprice_gwei\n",
    "    df['detecttimemillis'] = pd.to_datetime(df['detecttime']).astype(int) // 10**6\n",
    "    df['gasprice_gwei'] = df['gasprice'] * 1e-9\n",
    "    df = df[(df['gasprice_gwei'] <= 400) & (df['status'] != 'evicted')]\n",
    "    # plot each point with its associated color\n",
    "    for status, color in color_map.items():\n",
    "        status_df = df[df['status'] == status]\n",
    "        plt.scatter(status_df['detecttimemillis'], status_df['gasprice_gwei'], c=color, label=status)\n",
    "    # loop through each block and plot a vertical line for the earliest confirmed point\n",
    "    for block in df['curblocknumber'].unique():\n",
    "        block_df = df[df['curblocknumber'] == block]\n",
    "        earliest_confirmed = block_df[block_df['status'] == 'confirmed']['detecttimemillis'].min()\n",
    "        plt.axvline(x=earliest_confirmed, color='black', linestyle='--')\n",
    "        plt.text(earliest_confirmed, df['gasprice_gwei'].max(), f'{block}', ha='center')\n",
    "    # set the x-axis label and title\n",
    "    plt.xlabel('Timestamp (Miliseconds)')\n",
    "    plt.title('Gas Price (Gwei) vs Timestamp')\n",
    "    # set the x-axis range to start from the lowest timestamp in the dataframe\n",
    "    plt.xlim(left=df['detecttimemillis'].min())\n",
    "    # add the legend at the end by color\n",
    "    handles = [plt.plot([], [], marker='o', ls=\"\", color=color_map[label], label=label)[0] for label in color_map.keys()]\n",
    "    plt.legend(handles=handles, loc='upper right')\n",
    "    # set the plot dimensions to make the x-axis longer than\n",
    "    plt.gcf().set_size_inches(15, 5)\n",
    "\n",
    "    # show the plot\n",
    "    plt.show()\n"
   ]
  },
  {
   "cell_type": "code",
   "execution_count": null,
   "metadata": {},
   "outputs": [],
   "source": [
    "# block_df = new_pool[(new_pool['curblocknumber'] >= 17195490) & (new_pool['curblocknumber'] <= 17195496)].copy()\n",
    "block_df = new_pool[(new_pool['curblocknumber'] >= 17195490) & (new_pool['curblocknumber'] <= 17195500) & (new_pool['region'] == 'us-east-1')].copy()\n",
    "plot_blocks_statuses(block_df)"
   ]
  },
  {
   "cell_type": "code",
   "execution_count": null,
   "metadata": {},
   "outputs": [],
   "source": [
    "def plot_blocks_mempool_type(df):\n",
    "    # create a dictionary to map status to color\n",
    "    color_map = {'private': 'red', 'public': 'blue'}\n",
    "    # add new columns detecttimemillis and gasprice_gwei\n",
    "    df['detecttimemillis'] = pd.to_datetime(df['detecttime']).astype(int) // 10**6\n",
    "    df['gasprice_gwei'] = df['gasprice'] * 1e-9\n",
    "    df = df[(df['gasprice_gwei'] <= 400) & (df['status'] != 'evicted')]\n",
    "    # plot each point with its associated color\n",
    "    for flow, color in color_map.items():\n",
    "        filtered_df = df[(df['order_flow'] == flow) & (df['status'] == 'confirmed')]\n",
    "        plt.scatter(filtered_df['detecttimemillis'], filtered_df['gasprice_gwei'], c=color, label=flow)\n",
    "    # loop through each block and plot a vertical line for the earliest confirmed point\n",
    "    for block in df['curblocknumber'].unique():\n",
    "        block_df = df[df['curblocknumber'] == block]\n",
    "        print(f'Block: {block}')\n",
    "        earliest_confirmed = block_df[block_df['status'] == 'confirmed']['detecttimemillis'].min()\n",
    "        print(f'Earliest Confifmed: {earliest_confirmed}\\n')\n",
    "        plt.axvline(x=earliest_confirmed, color='black', linestyle='--')\n",
    "        plt.text(earliest_confirmed, df['gasprice_gwei'].max(), f'{block}', ha='center')\n",
    "    # set the x-axis label and title\n",
    "    plt.xlabel('Timestamp (Miliseconds)')\n",
    "    plt.title('Gas Price (Gwei) vs Timestamp for Public vs. Private Order Flows')\n",
    "    # set the x-axis range to start from the lowest timestamp in the dataframe\n",
    "    plt.xlim(left=df['detecttimemillis'].min())\n",
    "    # add the legend at the end by color\n",
    "    handles = [plt.plot([], [], marker='o', ls=\"\", color=color_map[label], label=label)[0] for label in color_map.keys()]\n",
    "    plt.legend(handles=handles, loc='upper right')\n",
    "    # set the plot dimensions to make the x-axis longer than\n",
    "    plt.gcf().set_size_inches(15, 5)\n",
    "\n",
    "    # show the plot\n",
    "    plt.show()\n"
   ]
  },
  {
   "cell_type": "code",
   "execution_count": null,
   "metadata": {},
   "outputs": [],
   "source": [
    "p_block_df = block_df.copy()\n",
    "p_block_df['order_flow'] = 'private'\n",
    "filtered = p_block_df[p_block_df['status'] == 'pending']\n",
    "p_block_df.loc[p_block_df['hash'].isin(filtered['hash']), 'order_flow'] = 'public'\n",
    "plot_blocks_mempool_type(p_block_df)"
   ]
  },
  {
   "cell_type": "code",
   "execution_count": null,
   "metadata": {},
   "outputs": [],
   "source": [
    "grouped_status_df = block_df.groupby('hash').agg({'status': lambda x: set(x), 'detecttime': lambda x: set(x)}).reset_index()\n",
    "grouped_status_df\n",
    "\n",
    "color_map = {'private': 'red', 'public': 'blue'}\n",
    "\n",
    "def get_order_flow(status_set):\n",
    "    if 'pending' in status_set:\n",
    "        return 'public'\n",
    "    else:\n",
    "        return 'private'\n",
    "\n",
    "grouped_status_df['order_flow'] = grouped_status_df['status'].apply(get_order_flow)\n",
    "grouped_status_df['color'] = grouped_status_df['order_flow'].map(color_map)\n",
    "grouped_status_df\n",
    "\n",
    "exploded_df = grouped_status_df.explode('detecttime').explode('status')\n",
    "exploded_df"
   ]
  },
  {
   "cell_type": "code",
   "execution_count": null,
   "metadata": {},
   "outputs": [],
   "source": [
    "def plot_confirmed_txs(df):\n",
    "    # create a dictionary to map status to color\n",
    "    color_map = {'private': 'red', 'public': 'blue'}\n",
    "    # add new columns detecttimemillis and gasprice_gwei\n",
    "    df['detecttimemillis'] = pd.to_datetime(df['detecttime']).astype(int) // 10**6\n",
    "    df['gasprice_gwei'] = df['gasprice'] * 1e-9\n",
    "    # plot each point with its associated color and size based on gasprice_gwei\n",
    "    for flow, color in color_map.items():\n",
    "        filtered_df = df[df['order_flow'] == flow]\n",
    "        plt.scatter(filtered_df['detecttimemillis'], filtered_df['timepending'], c=color, label=flow, s=filtered_df['gasprice_gwei'])\n",
    "    # loop through each block and plot a vertical line for the earliest confirmed point\n",
    "    for block in df['curblocknumber'].unique():\n",
    "        block_df = df[df['curblocknumber'] == block]\n",
    "        earliest_confirmed = block_df[block_df['status'] == 'confirmed']['detecttimemillis'].min()\n",
    "        plt.axvline(x=earliest_confirmed, color='black', linestyle='--')\n",
    "        # plt.text(earliest_confirmed, df['gasprice_gwei'].max(), f'{block}', ha='center')\n",
    "    # set the x-axis label and title\n",
    "    plt.xlabel('Timestamp (Miliseconds)')\n",
    "    plt.title('Inclusion time (Miliseconds) vs Time (Miliseconds)')\n",
    "    # set the x-axis range to start from the lowest timestamp in the dataframe\n",
    "    plt.xlim(left=df['detecttimemillis'].min())\n",
    "    # add the legend at the end by color\n",
    "    handles = [plt.plot([], [], marker='o', ls=\"\", color=color_map[label], label=label)[0] for label in color_map.keys()]\n",
    "    plt.legend(handles=handles, loc='upper right')\n",
    "    # set the plot dimensions to make the x-axis longer than\n",
    "    plt.gcf().set_size_inches(15, 5)\n",
    "\n",
    "    # show the plot\n",
    "    plt.show()"
   ]
  },
  {
   "cell_type": "code",
   "execution_count": null,
   "metadata": {},
   "outputs": [],
   "source": [
    "def heatmap_gas_vs_inclusion(df):\n",
    "\n",
    "    # Create a heatmap with inclusion time on the x-axis and total gas spent in block on the y-axis\n",
    "    sns.histplot(data=df, x='timepending', y='gasprice_gwei', bins=50)\n",
    "\n",
    "    # Set the title and axis labels\n",
    "    plt.title('Relationship between Total Gas Price in Private O.F. and Total Inclusion Time Per Block')\n",
    "    plt.xlabel('Inclusion Time in Block (ms)')\n",
    "    plt.ylabel('Total Gas Price by Private Order Flow for a Block (Gwei)')\n",
    "\n",
    "    # Show the plot\n",
    "    plt.show()"
   ]
  },
  {
   "cell_type": "code",
   "execution_count": null,
   "metadata": {},
   "outputs": [],
   "source": [
    "def plot_gas_vs_inclusion(df):\n",
    "\n",
    "    # Create a scatter plot with inclusion time on the x-axis and total gas spent in block on the y-axis\n",
    "    plt.scatter(df['gasused'], df['timepending'])\n",
    "\n",
    "    # Set the title and axis labels\n",
    "    plt.title('Relationship between Total Gas Used in Private O.F. and Total Inclusion Time Per Block')\n",
    "    plt.ylabel('Inclusion Time in Block (ms)')\n",
    "    plt.xlabel('Total Gas Used by Private Order Flow for a Block (Gwei)')\n",
    "\n",
    "    # Show the plot\n",
    "    plt.show()"
   ]
  },
  {
   "cell_type": "code",
   "execution_count": null,
   "metadata": {},
   "outputs": [],
   "source": [
    "# Fetch the confirmed transactions in a range:\n",
    "sample_confirmed_df = new_pool[(new_pool['curblocknumber'] >= 17195490) & (new_pool['curblocknumber'] <= 17195500) & (new_pool['region'] == 'us-east-1') & (new_pool['status'] == 'confirmed')].copy()\n",
    "big_confirmed_df = new_pool[(new_pool['region'] == 'us-east-1') & (new_pool['status'] == 'confirmed')].copy()\n",
    "\n",
    "big_confirmed_df['detecttimemillis'] = pd.to_datetime(big_confirmed_df['detecttime']).astype(int) // 10**6\n",
    "big_confirmed_df['gasprice_gwei'] = big_confirmed_df['gasprice'] * 1e-9\n",
    "\n",
    "# define function to determine order flow\n",
    "def determine_order_flow_documentation(row):\n",
    "    if row['timepending'] == 0 and row['status'] == 'confirmed':\n",
    "        return 'private'\n",
    "    else:\n",
    "        return 'public'\n",
    "\n",
    "# define function to determine order flow\n",
    "def determine_order_flow_burak(row):\n",
    "    if row['timepending'] == 0 and row['status'] == 'confirmed':\n",
    "        return 'private'\n",
    "    elif pd.isna(row['timepending']) and row['status'] == 'confirmed':\n",
    "        return 'private'\n",
    "    elif row['timepending'] > 0 and row['status'] == 'confirmed':\n",
    "        return 'public'\n",
    "    else:\n",
    "        return 'others'\n",
    "    # else:\n",
    "    #     return 'public'\n",
    "\n",
    "# add the order flow \n",
    "big_confirmed_df['order_flow'] = big_confirmed_df.apply(determine_order_flow_burak, axis=1)\n",
    "\n",
    "# take the private df\n",
    "private_df = big_confirmed_df[big_confirmed_df['order_flow'] == 'private']\n",
    "# take the public df\n",
    "public_df = big_confirmed_df[big_confirmed_df['order_flow'] == 'public']\n",
    "\n",
    "others_df = big_confirmed_df[big_confirmed_df['order_flow'] == 'others']\n",
    "\n",
    "# group by curblocknumber and calculate total_gas_spent_in_block and total_gas_in_private_flow\n",
    "grouped_private_df = private_df.groupby('curblocknumber').agg({'gasused': 'sum'}).reset_index()\n",
    "# group by curblocknumber and calculate total_gas_spent_in_block and total_gas_in_private_flow\n",
    "grouped_public_df = public_df.groupby('curblocknumber').agg({'timepending': 'median'}).reset_index()\n",
    "\n",
    "# join grouped_private_df and grouped_public_df on 'curblocknumber'\n",
    "merged_df = grouped_private_df.merge(grouped_public_df, on='curblocknumber')\n",
    "\n",
    "## Grouped public.merge(grouped)\n",
    "\n",
    "plot_gas_vs_inclusion(merged_df)\n",
    "print(big_confirmed_df['curblocknumber'].nunique())\n",
    "\n"
   ]
  },
  {
   "cell_type": "code",
   "execution_count": null,
   "metadata": {},
   "outputs": [],
   "source": []
  },
  {
   "cell_type": "code",
   "execution_count": null,
   "metadata": {},
   "outputs": [],
   "source": []
  }
 ],
 "metadata": {
  "kernelspec": {
   "display_name": "Python 3",
   "language": "python",
   "name": "python3"
  },
  "language_info": {
   "codemirror_mode": {
    "name": "ipython",
    "version": 3
   },
   "file_extension": ".py",
   "mimetype": "text/x-python",
   "name": "python",
   "nbconvert_exporter": "python",
   "pygments_lexer": "ipython3",
   "version": "3.8.9"
  },
  "orig_nbformat": 4
 },
 "nbformat": 4,
 "nbformat_minor": 2
}
