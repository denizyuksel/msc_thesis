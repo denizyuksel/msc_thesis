{
 "cells": [
  {
   "cell_type": "code",
   "execution_count": 1,
   "metadata": {},
   "outputs": [
    {
     "name": "stderr",
     "output_type": "stream",
     "text": [
      "C:\\Users\\Deniz\\AppData\\Local\\Temp\\ipykernel_5272\\1603311748.py:1: DeprecationWarning: \n",
      "Pyarrow will become a required dependency of pandas in the next major release of pandas (pandas 3.0),\n",
      "(to allow more performant data types, such as the Arrow string type, and better interoperability with other libraries)\n",
      "but was not found to be installed on your system.\n",
      "If this would cause problems for you,\n",
      "please provide us feedback at https://github.com/pandas-dev/pandas/issues/54466\n",
      "        \n",
      "  import pandas as pd\n"
     ]
    }
   ],
   "source": [
    "import pandas as pd\n",
    "from sqlalchemy import create_engine, text"
   ]
  },
  {
   "cell_type": "code",
   "execution_count": 2,
   "metadata": {},
   "outputs": [],
   "source": [
    "localhost_name = 'localhost'\n",
    "\n",
    "db_params = {\n",
    "    'host': localhost_name,\n",
    "    'database': 'thesisdb',\n",
    "    'user': 'postgres',\n",
    "    'password': 'admin',\n",
    "    'port': '5432'\n",
    "}\n",
    "\n",
    "engine = create_engine(f\"postgresql://{db_params['user']}:{db_params['password']}@{db_params['host']}:{db_params['port']}/{db_params['database']}\")\n"
   ]
  },
  {
   "cell_type": "code",
   "execution_count": 5,
   "metadata": {},
   "outputs": [],
   "source": [
    "# Read from db\n",
    "\n",
    "# Define the SQL query\n",
    "sql_query = 'SELECT * FROM transactions'\n",
    "\n",
    "# Define the chunk size\n",
    "chunk_size = 10000  # Adjust this size based on your memory capacity and needs\n",
    "\n",
    "# Use read_sql_query with chunksize parameter\n",
    "for chunk in pd.read_sql_query(sql_query, engine, chunksize=chunk_size):\n",
    "    # At this point, 'chunk' is a DataFrame containing a portion of the data\n",
    "    # You can process each chunk as needed, for example:\n",
    "    print(chunk.head())  # Just as an example, prints the first few rows of each chunk\n",
    "\n",
    "    # Place your data processing code here\n",
    "    # For example, analysis, filtering, aggregations, or appending the data to another file/DB\n"
   ]
  },
  {
   "cell_type": "code",
   "execution_count": null,
   "metadata": {},
   "outputs": [],
   "source": []
  }
 ],
 "metadata": {
  "kernelspec": {
   "display_name": "Python 3",
   "language": "python",
   "name": "python3"
  },
  "language_info": {
   "codemirror_mode": {
    "name": "ipython",
    "version": 3
   },
   "file_extension": ".py",
   "mimetype": "text/x-python",
   "name": "python",
   "nbconvert_exporter": "python",
   "pygments_lexer": "ipython3",
   "version": "3.12.2"
  }
 },
 "nbformat": 4,
 "nbformat_minor": 2
}
